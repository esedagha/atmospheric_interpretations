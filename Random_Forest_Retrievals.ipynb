{
  "nbformat": 4,
  "nbformat_minor": 0,
  "metadata": {
    "colab": {
      "name": "Random Forest Retrievals",
      "provenance": [],
      "collapsed_sections": [],
      "toc_visible": true
    },
    "kernelspec": {
      "name": "python3",
      "display_name": "Python 3"
    },
    "language_info": {
      "name": "python"
    }
  },
  "cells": [
    {
      "cell_type": "markdown",
      "metadata": {
        "id": "9u80vLuQrh6x"
      },
      "source": [
        "## **Random Forest Retrievals**\n",
        "\n",
        "*Chloe Fisher* (chloe.fisher@unibe.ch)"
      ]
    },
    {
      "cell_type": "markdown",
      "metadata": {
        "id": "NONcFWum0D8W"
      },
      "source": [
        "This notebook covers how to run a Random Forest retrieval on low-resolution data. The example uses HST WFC3 data for WASP-12 b (Kreidberg et al. 2015)."
      ]
    },
    {
      "cell_type": "code",
      "metadata": {
        "colab": {
          "base_uri": "https://localhost:8080/"
        },
        "id": "6dpg6ZgCrldl",
        "outputId": "deddc5de-99c1-4bee-c9dc-50a8a7c2352b"
      },
      "source": [
        "! git clone https://github.com/exoclime/HELA.git"
      ],
      "execution_count": null,
      "outputs": [
        {
          "output_type": "stream",
          "text": [
            "Cloning into 'HELA'...\n",
            "remote: Enumerating objects: 209, done.\u001b[K\n",
            "remote: Counting objects: 100% (9/9), done.\u001b[K\n",
            "remote: Compressing objects: 100% (9/9), done.\u001b[K\n",
            "remote: Total 209 (delta 1), reused 1 (delta 0), pack-reused 200\u001b[K\n",
            "Receiving objects: 100% (209/209), 12.76 MiB | 25.13 MiB/s, done.\n",
            "Resolving deltas: 100% (115/115), done.\n"
          ],
          "name": "stdout"
        }
      ]
    },
    {
      "cell_type": "code",
      "metadata": {
        "colab": {
          "base_uri": "https://localhost:8080/"
        },
        "id": "6IdIYR0yxFXE",
        "outputId": "04aabbd4-f8c2-444b-e84d-b1778e9c8625"
      },
      "source": [
        "from google.colab import drive\n",
        "drive.mount('/content/drive')"
      ],
      "execution_count": null,
      "outputs": [
        {
          "output_type": "stream",
          "text": [
            "Mounted at /content/drive\n"
          ],
          "name": "stdout"
        }
      ]
    },
    {
      "cell_type": "markdown",
      "metadata": {
        "id": "RSw3zHd00R8f"
      },
      "source": [
        "First let's take a look at the data. This is the transmission spectrum of WASP-12 b from WFC3, reduced and ready for retrieval. "
      ]
    },
    {
      "cell_type": "code",
      "metadata": {
        "colab": {
          "base_uri": "https://localhost:8080/",
          "height": 300
        },
        "id": "8gicvVIHrzX1",
        "outputId": "75e6f33e-cd80-4905-fca8-61d64a11c494"
      },
      "source": [
        "import numpy as np\n",
        "import matplotlib.pyplot as plt\n",
        "\n",
        "wavelength = np.load('HELA/example_dataset/wavelength.npy')\n",
        "data = np.load('HELA/example_dataset/WASP12b.npy')[0]\n",
        "error = np.load('HELA/example_dataset/error_bars.npy')\n",
        "\n",
        "fig, ax = plt.subplots()\n",
        "ax.errorbar(wavelength, data, yerr=error, fmt='o')\n",
        "ax.set_xlabel(r'Wavelength ($\\mu$m)')\n",
        "ax.set_ylabel(r'Transit Depth $(R_p/R_*)^2$')"
      ],
      "execution_count": null,
      "outputs": [
        {
          "output_type": "execute_result",
          "data": {
            "text/plain": [
              "Text(0, 0.5, 'Transit Depth $(R_p/R_*)^2$')"
            ]
          },
          "metadata": {},
          "execution_count": 8
        },
        {
          "output_type": "display_data",
          "data": {
            "image/png": "[encoded data removed]",
            "text/plain": [
              "<Figure size 432x288 with 1 Axes>"
            ]
          },
          "metadata": {
            "needs_background": "light"
          }
        }
      ]
    },
    {
      "cell_type": "markdown",
      "metadata": {
        "id": "yXS1O4tt0lKF"
      },
      "source": [
        "This spectrum is what we want the forest to retrieve. So first, we need to train the forest. This involves creating a training set of spectra that the forest can learn from. This step is the bottle neck in the process, so we have a pre-generated training set ready to go. For this, we used WASP-12 b's parameters (stellar and planetary radius and gravity), and varied 5 atmospheric parameters that we want to retrieve. In this case we used temperature, abundances of H2O, HCN, and NH3, and a grey cloud opacity. We used a simplified analytical model of the transit depth to create a set of 100,000 spectra with different atmospheric parameters. This is then split into 80,000 training spectra and 20,000 testing spectra. The training set itself is just a numpy array, with each row containing the 13 spectral points, followed by the 5 atmospheric parameters. Here we can plot the first 10 spectra in the training set."
      ]
    },
    {
      "cell_type": "code",
      "metadata": {
        "colab": {
          "base_uri": "https://localhost:8080/",
          "height": 300
        },
        "id": "2YNRyilbsxm6",
        "outputId": "9019841d-9c81-4463-b248-dcca9c6281d2"
      },
      "source": [
        "training_set = np.load('HELA/example_dataset/training.npy')\n",
        "\n",
        "fig, ax = plt.subplots()\n",
        "for i in range(10):\n",
        "  ax.plot(wavelength, training_set[i, :13])\n",
        "ax.set_xlabel(r'Wavelength ($\\mu$m)')\n",
        "ax.set_ylabel(r'Transit Depth $(R_p/R_*)^2$')"
      ],
      "execution_count": null,
      "outputs": [
        {
          "output_type": "execute_result",
          "data": {
            "text/plain": [
              "Text(0, 0.5, 'Transit Depth $(R_p/R_*)^2$')"
            ]
          },
          "metadata": {},
          "execution_count": 16
        },
        {
          "output_type": "display_data",
          "data": {
            "image/png": "[encoded data removed]",
            "text/plain": [
              "<Figure size 432x288 with 1 Axes>"
            ]
          },
          "metadata": {
            "needs_background": "light"
          }
        }
      ]
    },
    {
      "cell_type": "markdown",
      "metadata": {
        "id": "5WM55Y-Uv8Ud"
      },
      "source": [
        "These spectra all have different atmospheric parameters, leading to these different shapes and offsets. \n",
        "\n",
        "Now we're ready to use the forest. First, double click on the example_dataset.json file in the example_dataset/ folder. This is the information the forest needs to read the training and testing sets, and create plots. Note: the \"num_features\" tells the forest how to split the data into the spectral points and the retrieval parameters. \n",
        "\n",
        "The forest has two settings: train and predict. Before using each one, you can use the help feature to check the required and optional arguments."
      ]
    },
    {
      "cell_type": "code",
      "metadata": {
        "colab": {
          "base_uri": "https://localhost:8080/"
        },
        "id": "yyQxA3i_uDrs",
        "outputId": "62eff5c0-7410-49cb-cd4d-355ad55fe34b"
      },
      "source": [
        "% cd HELA/\n",
        "\n",
        "! python3 rfretrieval.py train -h"
      ],
      "execution_count": null,
      "outputs": [
        {
          "output_type": "stream",
          "text": [
            "/content/HELA\n",
            "usage: rfretrieval.py train [-h] [--num-trees NUM_TREES] [--num-jobs NUM_JOBS]\n",
            "                            [--feature-importance]\n",
            "                            training_dataset model_path\n",
            "\n",
            "positional arguments:\n",
            "  training_dataset      JSON file with the training dataset description\n",
            "  model_path            path where the trained model will be saved\n",
            "\n",
            "optional arguments:\n",
            "  -h, --help            show this help message and exit\n",
            "  --num-trees NUM_TREES\n",
            "                        number of trees in the forest\n",
            "  --num-jobs NUM_JOBS   number of parallel jobs for fitting the random forest\n",
            "  --feature-importance  compute feature importances after training\n"
          ],
          "name": "stdout"
        }
      ]
    },
    {
      "cell_type": "markdown",
      "metadata": {
        "id": "2JCIq3k32231"
      },
      "source": [
        "Now we can train the forest. This will take about 5 minutes. "
      ]
    },
    {
      "cell_type": "code",
      "metadata": {
        "colab": {
          "base_uri": "https://localhost:8080/"
        },
        "id": "9kiN6oTsvTP6",
        "outputId": "ae8021d3-99a5-4c4a-8783-64d65b53df7b"
      },
      "source": [
        "! python3 rfretrieval.py train example_dataset/example_dataset.json example_model/"
      ],
      "execution_count": null,
      "outputs": [
        {
          "output_type": "stream",
          "text": [
            "\u001b[32;1m2021-08-19 09:31:48,838 [__main__]\u001b[0m Loading dataset 'example_dataset/example_dataset.json'...\n",
            "\u001b[32;1m2021-08-19 09:31:48,854 [__main__]\u001b[0m Training model...\n",
            "[Parallel(n_jobs=5)]: Using backend ThreadingBackend with 5 concurrent workers.\n",
            "[Parallel(n_jobs=5)]: Done  40 tasks      | elapsed:   11.6s\n",
            "[Parallel(n_jobs=5)]: Done 190 tasks      | elapsed:   54.1s\n",
            "[Parallel(n_jobs=5)]: Done 440 tasks      | elapsed:  2.1min\n",
            "[Parallel(n_jobs=5)]: Done 790 tasks      | elapsed:  3.8min\n",
            "[Parallel(n_jobs=5)]: Done 1000 out of 1000 | elapsed:  4.8min finished\n",
            "[Parallel(n_jobs=5)]: Using backend ThreadingBackend with 5 concurrent workers.\n",
            "[Parallel(n_jobs=5)]: Done  40 tasks      | elapsed:    0.6s\n",
            "[Parallel(n_jobs=5)]: Done 190 tasks      | elapsed:    2.7s\n",
            "[Parallel(n_jobs=5)]: Done 440 tasks      | elapsed:    5.8s\n",
            "[Parallel(n_jobs=5)]: Done 790 tasks      | elapsed:   10.7s\n",
            "[Parallel(n_jobs=5)]: Done 1000 out of 1000 | elapsed:   13.6s finished\n",
            "\u001b[32;1m2021-08-19 09:37:09,121 [__main__]\u001b[0m Saving model to 'example_model/model.pkl'...\n",
            "\u001b[32;1m2021-08-19 09:37:33,000 [__main__]\u001b[0m Printing model information...\n",
            "OOB score: 0.6518\n",
            "\u001b[32;1m2021-08-19 09:37:33,001 [__main__]\u001b[0m Testing model...\n",
            "[Parallel(n_jobs=5)]: Using backend ThreadingBackend with 5 concurrent workers.\n",
            "[Parallel(n_jobs=5)]: Done  40 tasks      | elapsed:    0.3s\n",
            "[Parallel(n_jobs=5)]: Done 190 tasks      | elapsed:    1.0s\n",
            "[Parallel(n_jobs=5)]: Done 440 tasks      | elapsed:    2.0s\n",
            "[Parallel(n_jobs=5)]: Done 790 tasks      | elapsed:    3.5s\n",
            "[Parallel(n_jobs=5)]: Done 1000 out of 1000 | elapsed:    4.4s finished\n",
            "Testing scores:\n",
            "\tR^2 score for $T (K)$: 0.746\n",
            "\tR^2 score for H$_2$O: 0.608\n",
            "\tR^2 score for HCN: 0.466\n",
            "\tR^2 score for NH$_3$: 0.700\n",
            "\tR^2 score for $\\kappa_0$: 0.737\n",
            "\u001b[32;1m2021-08-19 09:37:37,446 [__main__]\u001b[0m Plotting testing results...\n"
          ],
          "name": "stdout"
        }
      ]
    },
    {
      "cell_type": "markdown",
      "metadata": {
        "id": "VLakMawwytgP"
      },
      "source": [
        "The forest has been trained and tested, and the results of the testing stage are saved in example_model/predicted_vs_real.pdf. You can download and view this plot to see how the forest performs over the range of parameters. \n",
        "\n",
        "The trained forest is saved in the example_model/ folder as model.pkl. You can now use this to predict on the real spectrum, or any individual spectrum for which you want the full retrieval. "
      ]
    },
    {
      "cell_type": "code",
      "metadata": {
        "colab": {
          "base_uri": "https://localhost:8080/"
        },
        "id": "bnGqIgz_x8Wz",
        "outputId": "3faf0eda-372a-419d-bbc5-65a8c8a9c339"
      },
      "source": [
        "! python3 rfretrieval.py predict -h"
      ],
      "execution_count": null,
      "outputs": [
        {
          "output_type": "stream",
          "text": [
            "usage: rfretrieval.py predict [-h] [--plot-posterior]\n",
            "                              model_path data_file output_path\n",
            "\n",
            "positional arguments:\n",
            "  model_path        path to the trained model\n",
            "  data_file         NPY file with the data for the prediction\n",
            "  output_path       path to write the results of the prediction\n",
            "\n",
            "optional arguments:\n",
            "  -h, --help        show this help message and exit\n",
            "  --plot-posterior  plot and save the scatter matrix of the posterior\n",
            "                    distribution\n"
          ],
          "name": "stdout"
        }
      ]
    },
    {
      "cell_type": "markdown",
      "metadata": {
        "id": "iKm7v67G3bdC"
      },
      "source": [
        "Use the --plot-posterior argument to plot the posterior for the retrieval."
      ]
    },
    {
      "cell_type": "code",
      "metadata": {
        "colab": {
          "base_uri": "https://localhost:8080/"
        },
        "id": "DXHfaLzAy6Eq",
        "outputId": "7053481e-3f41-4757-83ea-436a578a595b"
      },
      "source": [
        "! python3 rfretrieval.py predict example_model/ example_dataset/WASP12b.npy example_model/ --plot-posterior"
      ],
      "execution_count": null,
      "outputs": [
        {
          "output_type": "stream",
          "text": [
            "\u001b[32;1m2021-08-19 09:44:30,240 [__main__]\u001b[0m Loading random forest from 'example_model/model.pkl'...\n",
            "\u001b[32;1m2021-08-19 09:44:42,874 [__main__]\u001b[0m Loading data from 'example_dataset/WASP12b.npy'...\n",
            "[Parallel(n_jobs=5)]: Using backend ThreadingBackend with 5 concurrent workers.\n",
            "[Parallel(n_jobs=5)]: Done  40 tasks      | elapsed:    0.0s\n",
            "[Parallel(n_jobs=5)]: Done 190 tasks      | elapsed:    0.0s\n",
            "[Parallel(n_jobs=5)]: Done 440 tasks      | elapsed:    0.0s\n",
            "[Parallel(n_jobs=5)]: Done 790 tasks      | elapsed:    0.1s\n",
            "[Parallel(n_jobs=5)]: Done 1000 out of 1000 | elapsed:    0.1s finished\n",
            "Prediction for $T (K)$: 892 [+397 -147]\n",
            "Prediction for H$_2$O: -2.3 [+1.54 -3.16]\n",
            "Prediction for HCN: -7.22 [+3.74 -3.89]\n",
            "Prediction for NH$_3$: -8.68 [+3.89 -3.57]\n",
            "Prediction for $\\kappa_0$: -2.34 [+1.33 -1.42]\n",
            "\u001b[32;1m2021-08-19 09:44:43,246 [__main__]\u001b[0m Plotting the posterior matrix...\n",
            "100% 25/25 [01:15<00:00,  3.02s/it]\n",
            "\u001b[32;1m2021-08-19 09:45:59,242 [__main__]\u001b[0m Saving the figure....\n",
            "\u001b[32;1m2021-08-19 09:46:05,161 [__main__]\u001b[0m Done.\n"
          ],
          "name": "stdout"
        }
      ]
    },
    {
      "cell_type": "markdown",
      "metadata": {
        "id": "8UYZ5naCzd-r"
      },
      "source": [
        "View the posterior_matrix.pdf in example_model/. This is effectively the standard cornerplot you get from a normal retrieval, plus the top right panels which show the individual predictions from each tree.\n"
      ]
    },
    {
      "cell_type": "markdown",
      "metadata": {
        "id": "hdpHLenK3078"
      },
      "source": [
        "The forest can also provide an information content analysis, known as the feature importance. This will determine which spectral points were most importance for determining each parameter when training the forest. Here you can run it, but it will take about 30 minutes. "
      ]
    },
    {
      "cell_type": "code",
      "metadata": {
        "colab": {
          "base_uri": "https://localhost:8080/"
        },
        "id": "8KPceM3jzDNJ",
        "outputId": "bd96ad9b-8c03-4cfe-8994-bc35ea3525cd"
      },
      "source": [
        "! python3 rfretrieval.py train example_dataset/example_dataset.json example_model/ --feature-importance"
      ],
      "execution_count": null,
      "outputs": [
        {
          "output_type": "stream",
          "text": [
            "\u001b[32;1m2021-08-19 10:09:50,188 [__main__]\u001b[0m Loading dataset 'example_dataset/example_dataset.json'...\n",
            "\u001b[32;1m2021-08-19 10:09:50,217 [__main__]\u001b[0m Training model...\n",
            "[Parallel(n_jobs=5)]: Using backend ThreadingBackend with 5 concurrent workers.\n",
            "[Parallel(n_jobs=5)]: Done  40 tasks      | elapsed:   11.8s\n",
            "[Parallel(n_jobs=5)]: Done 190 tasks      | elapsed:   55.7s\n",
            "[Parallel(n_jobs=5)]: Done 440 tasks      | elapsed:  2.2min\n",
            "[Parallel(n_jobs=5)]: Done 790 tasks      | elapsed:  3.9min\n",
            "[Parallel(n_jobs=5)]: Done 1000 out of 1000 | elapsed:  4.9min finished\n",
            "[Parallel(n_jobs=5)]: Using backend ThreadingBackend with 5 concurrent workers.\n",
            "[Parallel(n_jobs=5)]: Done  40 tasks      | elapsed:    0.5s\n",
            "[Parallel(n_jobs=5)]: Done 190 tasks      | elapsed:    2.4s\n",
            "[Parallel(n_jobs=5)]: Done 440 tasks      | elapsed:    5.6s\n",
            "[Parallel(n_jobs=5)]: Done 790 tasks      | elapsed:   10.0s\n",
            "[Parallel(n_jobs=5)]: Done 1000 out of 1000 | elapsed:   12.6s finished\n",
            "\u001b[32;1m2021-08-19 10:15:14,424 [__main__]\u001b[0m Saving model to 'example_model/model.pkl'...\n",
            "\u001b[32;1m2021-08-19 10:15:38,490 [__main__]\u001b[0m Printing model information...\n",
            "OOB score: 0.6520\n",
            "\u001b[32;1m2021-08-19 10:15:38,491 [__main__]\u001b[0m Testing model...\n",
            "[Parallel(n_jobs=5)]: Using backend ThreadingBackend with 5 concurrent workers.\n",
            "[Parallel(n_jobs=5)]: Done  40 tasks      | elapsed:    0.2s\n",
            "[Parallel(n_jobs=5)]: Done 190 tasks      | elapsed:    0.9s\n",
            "[Parallel(n_jobs=5)]: Done 440 tasks      | elapsed:    1.9s\n",
            "[Parallel(n_jobs=5)]: Done 790 tasks      | elapsed:    3.4s\n",
            "[Parallel(n_jobs=5)]: Done 1000 out of 1000 | elapsed:    4.2s finished\n",
            "Testing scores:\n",
            "\tR^2 score for $T (K)$: 0.746\n",
            "\tR^2 score for H$_2$O: 0.608\n",
            "\tR^2 score for HCN: 0.467\n",
            "\tR^2 score for NH$_3$: 0.700\n",
            "\tR^2 score for $\\kappa_0$: 0.737\n",
            "\u001b[32;1m2021-08-19 10:15:42,762 [__main__]\u001b[0m Plotting testing results...\n",
            "\u001b[32;1m2021-08-19 10:15:46,896 [__main__]\u001b[0m Computing feature importance for individual parameters...\n",
            "[Parallel(n_jobs=5)]: Using backend LokyBackend with 5 concurrent workers.\n",
            "[Parallel(n_jobs=5)]: Done  40 tasks      | elapsed:   13.5s\n",
            "[Parallel(n_jobs=5)]: Done 190 tasks      | elapsed:   52.0s\n",
            "[Parallel(n_jobs=5)]: Done 440 tasks      | elapsed:  1.9min\n",
            "[Parallel(n_jobs=5)]: Done 790 tasks      | elapsed:  3.5min\n",
            "[Parallel(n_jobs=5)]: Done 1000 out of 1000 | elapsed:  4.4min finished\n",
            "[Parallel(n_jobs=5)]: Using backend LokyBackend with 5 concurrent workers.\n",
            "[Parallel(n_jobs=5)]: Done  40 tasks      | elapsed:   11.9s\n",
            "[Parallel(n_jobs=5)]: Done 190 tasks      | elapsed:   55.5s\n",
            "[Parallel(n_jobs=5)]: Done 440 tasks      | elapsed:  2.1min\n",
            "[Parallel(n_jobs=5)]: Done 790 tasks      | elapsed:  3.8min\n",
            "[Parallel(n_jobs=5)]: Done 1000 out of 1000 | elapsed:  4.8min finished\n",
            "[Parallel(n_jobs=5)]: Using backend LokyBackend with 5 concurrent workers.\n",
            "[Parallel(n_jobs=5)]: Done  40 tasks      | elapsed:   13.3s\n",
            "[Parallel(n_jobs=5)]: Done 190 tasks      | elapsed:  1.0min\n",
            "[Parallel(n_jobs=5)]: Done 440 tasks      | elapsed:  2.2min\n",
            "[Parallel(n_jobs=5)]: Done 790 tasks      | elapsed:  4.0min\n",
            "[Parallel(n_jobs=5)]: Done 1000 out of 1000 | elapsed:  5.0min finished\n",
            "[Parallel(n_jobs=5)]: Using backend LokyBackend with 5 concurrent workers.\n",
            "[Parallel(n_jobs=5)]: Done  40 tasks      | elapsed:   10.7s\n",
            "[Parallel(n_jobs=5)]: Done 190 tasks      | elapsed:   46.9s\n",
            "[Parallel(n_jobs=5)]: Done 440 tasks      | elapsed:  1.8min\n",
            "[Parallel(n_jobs=5)]: Done 790 tasks      | elapsed:  3.2min\n",
            "[Parallel(n_jobs=5)]: Done 1000 out of 1000 | elapsed:  4.0min finished\n",
            "[Parallel(n_jobs=5)]: Using backend LokyBackend with 5 concurrent workers.\n",
            "[Parallel(n_jobs=5)]: Done  40 tasks      | elapsed:   10.9s\n",
            "[Parallel(n_jobs=5)]: Done 190 tasks      | elapsed:   50.7s\n",
            "[Parallel(n_jobs=5)]: Done 440 tasks      | elapsed:  1.9min\n",
            "[Parallel(n_jobs=5)]: Done 790 tasks      | elapsed:  3.4min\n",
            "[Parallel(n_jobs=5)]: Done 1000 out of 1000 | elapsed:  4.3min finished\n"
          ],
          "name": "stdout"
        }
      ]
    },
    {
      "cell_type": "markdown",
      "metadata": {
        "id": "lR-dOyx8EQ6C"
      },
      "source": [
        "View the feature importance plot in example_model/feature_importances.pdf."
      ]
    },
    {
      "cell_type": "code",
      "metadata": {
        "id": "NfKuFqP-Etjs"
      },
      "source": [
        ""
      ],
      "execution_count": null,
      "outputs": []
    }
  ]
}